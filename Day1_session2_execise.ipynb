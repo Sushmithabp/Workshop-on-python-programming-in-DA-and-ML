{
  "nbformat": 4,
  "nbformat_minor": 0,
  "metadata": {
    "colab": {
      "name": "Day1 session2 execise",
      "provenance": [],
      "authorship_tag": "ABX9TyM++HboOpaJP6aeAgD74F4L",
      "include_colab_link": true
    },
    "kernelspec": {
      "name": "python3",
      "display_name": "Python 3"
    }
  },
  "cells": [
    {
      "cell_type": "markdown",
      "metadata": {
        "id": "view-in-github",
        "colab_type": "text"
      },
      "source": [
        "<a href=\"https://colab.research.google.com/github/Sushmithabp/Workshop-on-python-programming-in-DA-and-ML/blob/master/Day1_session2_execise.ipynb\" target=\"_parent\"><img src=\"https://colab.research.google.com/assets/colab-badge.svg\" alt=\"Open In Colab\"/></a>"
      ]
    },
    {
      "cell_type": "code",
      "metadata": {
        "id": "UHSQwljDpj1h",
        "colab_type": "code",
        "colab": {}
      },
      "source": [
        ""
      ],
      "execution_count": 0,
      "outputs": []
    },
    {
      "cell_type": "markdown",
      "metadata": {
        "id": "-UqfjjQ0p5MX",
        "colab_type": "text"
      },
      "source": [
        "#A program to print the triangle"
      ]
    },
    {
      "cell_type": "code",
      "metadata": {
        "id": "67YwjeL-p8AI",
        "colab_type": "code",
        "colab": {
          "base_uri": "https://localhost:8080/",
          "height": 208
        },
        "outputId": "fc2797b0-854c-41a0-a61b-d49726c411f6"
      },
      "source": [
        "n = int(input(\"Enter The N Value:\"))\n",
        "c=1\n",
        "for i in range(n):\n",
        "  for j in range(i+1):\n",
        "    print(c, end=' ')\n",
        "    c+=1\n",
        "  print(\"\\n\")\n",
        "  c=c-i"
      ],
      "execution_count": 2,
      "outputs": [
        {
          "output_type": "stream",
          "text": [
            "Enter The N Value:5\n",
            "1 \n",
            "\n",
            "2 3 \n",
            "\n",
            "3 4 5 \n",
            "\n",
            "4 5 6 7 \n",
            "\n",
            "5 6 7 8 9 \n",
            "\n"
          ],
          "name": "stdout"
        }
      ]
    },
    {
      "cell_type": "markdown",
      "metadata": {
        "id": "akvOr4WrqFbu",
        "colab_type": "text"
      },
      "source": [
        ""
      ]
    },
    {
      "cell_type": "code",
      "metadata": {
        "id": "EwrowMTgp_YT",
        "colab_type": "code",
        "colab": {
          "base_uri": "https://localhost:8080/",
          "height": 104
        },
        "outputId": "032109ca-ce2d-4ba4-e81c-e6681b11c237"
      },
      "source": [
        "n = int(input(\"Enter The Number:\"))\n",
        "for i in range(n):\n",
        "  print(\"*\"*(i+1))"
      ],
      "execution_count": 3,
      "outputs": [
        {
          "output_type": "stream",
          "text": [
            "Enter The Number:4\n",
            "*\n",
            "**\n",
            "***\n",
            "****\n"
          ],
          "name": "stdout"
        }
      ]
    },
    {
      "cell_type": "code",
      "metadata": {
        "id": "jvcd9tFSqasf",
        "colab_type": "code",
        "colab": {
          "base_uri": "https://localhost:8080/",
          "height": 208
        },
        "outputId": "e6a89149-5ff9-42df-9ad3-b06b1842cc24"
      },
      "source": [
        "n = int(input(\"Enter The Number:\"))\n",
        "c=n\n",
        "for i in range(n):\n",
        "  c=c-i\n",
        "  for j in range(i+1):\n",
        "    print(c, end=\" \")\n",
        "    c+=1\n",
        "  c-=1\n",
        "  print(\"\\n\")\n",
        "  "
      ],
      "execution_count": 4,
      "outputs": [
        {
          "output_type": "stream",
          "text": [
            "Enter The Number:5\n",
            "5 \n",
            "\n",
            "4 5 \n",
            "\n",
            "3 4 5 \n",
            "\n",
            "2 3 4 5 \n",
            "\n",
            "1 2 3 4 5 \n",
            "\n"
          ],
          "name": "stdout"
        }
      ]
    },
    {
      "cell_type": "code",
      "metadata": {
        "id": "1bbuWabiqkrC",
        "colab_type": "code",
        "colab": {
          "base_uri": "https://localhost:8080/",
          "height": 208
        },
        "outputId": "bb8b15be-1017-45b9-9657-24edb43a3120"
      },
      "source": [
        "n = int(input(\"Enter The Number:\"))\n",
        "for i in range(n):\n",
        "  c=n-i\n",
        "  for j in range(n-i):\n",
        "    print(c, end=' ')\n",
        "    c-=1\n",
        "  print(\"\\n\")"
      ],
      "execution_count": 5,
      "outputs": [
        {
          "output_type": "stream",
          "text": [
            "Enter The Number:5\n",
            "5 4 3 2 1 \n",
            "\n",
            "4 3 2 1 \n",
            "\n",
            "3 2 1 \n",
            "\n",
            "2 1 \n",
            "\n",
            "1 \n",
            "\n"
          ],
          "name": "stdout"
        }
      ]
    },
    {
      "cell_type": "code",
      "metadata": {
        "id": "WPnX36TMqs5a",
        "colab_type": "code",
        "colab": {
          "base_uri": "https://localhost:8080/",
          "height": 277
        },
        "outputId": "3659ac97-a980-4fea-e5a6-afc654f8bc38"
      },
      "source": [
        "n = int(input(\"Enter The Number:\"))\n",
        "for i in range(n):\n",
        "  c=i+1\n",
        "  for j in range(n-i):\n",
        "    print(c, end=' ')\n",
        "    c+=1\n",
        "  print(\"\\n\")\n",
        "for i in range(n-1):\n",
        "  c=n-i-1\n",
        "  for j in range(i+2):\n",
        "    print(c, end=' ')\n",
        "    c+=1\n",
        "  print(\"\\n\")"
      ],
      "execution_count": 6,
      "outputs": [
        {
          "output_type": "stream",
          "text": [
            "Enter The Number:4\n",
            "1 2 3 4 \n",
            "\n",
            "2 3 4 \n",
            "\n",
            "3 4 \n",
            "\n",
            "4 \n",
            "\n",
            "3 4 \n",
            "\n",
            "2 3 4 \n",
            "\n",
            "1 2 3 4 \n",
            "\n"
          ],
          "name": "stdout"
        }
      ]
    },
    {
      "cell_type": "markdown",
      "metadata": {
        "id": "jXMoyAfzq8lK",
        "colab_type": "text"
      },
      "source": [
        "#The length of a string without using len functions"
      ]
    },
    {
      "cell_type": "code",
      "metadata": {
        "id": "tB1MR7o7q0B0",
        "colab_type": "code",
        "colab": {
          "base_uri": "https://localhost:8080/",
          "height": 52
        },
        "outputId": "2acf3fc2-dee4-40ed-a343-e3045198bc31"
      },
      "source": [
        "c = 0\n",
        "for i in input(\"Enter The String: \"):\n",
        "    c += 1\n",
        "print(f'The Length Of String Is: {c}')"
      ],
      "execution_count": 7,
      "outputs": [
        {
          "output_type": "stream",
          "text": [
            "Enter The String: sushmitha\n",
            "The Length Of String Is: 9\n"
          ],
          "name": "stdout"
        }
      ]
    },
    {
      "cell_type": "markdown",
      "metadata": {
        "id": "P4aG8gV-rHgD",
        "colab_type": "text"
      },
      "source": [
        "#The no of words and characters in a string"
      ]
    },
    {
      "cell_type": "code",
      "metadata": {
        "id": "8fYOeCzXrAh8",
        "colab_type": "code",
        "colab": {
          "base_uri": "https://localhost:8080/",
          "height": 69
        },
        "outputId": "7f1f6a3d-fd3c-40fc-98b4-2e4545ec3d5c"
      },
      "source": [
        "s = input(\"Enter The String: \")\n",
        "c = 0\n",
        "for i in s:\n",
        "    if i == \" \":\n",
        "        c += 1\n",
        "print(f'The Number Of Words In A String Is: {c + 1} \\nThe Number Of Characters In A String Is: {len(s)}')\n"
      ],
      "execution_count": 8,
      "outputs": [
        {
          "output_type": "stream",
          "text": [
            "Enter The String: sushmitha\n",
            "The Number Of Words In A String Is: 1 \n",
            "The Number Of Characters In A String Is: 9\n"
          ],
          "name": "stdout"
        }
      ]
    },
    {
      "cell_type": "markdown",
      "metadata": {
        "id": "l3ZgASg4rVMU",
        "colab_type": "text"
      },
      "source": [
        "#The no of occurrences of a word in a string"
      ]
    },
    {
      "cell_type": "code",
      "metadata": {
        "id": "44YxB5gQrOcK",
        "colab_type": "code",
        "colab": {
          "base_uri": "https://localhost:8080/",
          "height": 69
        },
        "outputId": "4b76e93a-a172-4d51-a455-df6e51209d44"
      },
      "source": [
        "def countOccurences(s, w):   \n",
        "       \n",
        "    return c        \n",
        "s = input(\"Enter The Main String: \").lower()\n",
        "w = input(\"Enter Comparision String: \")\n",
        "a = s.split(\" \") \n",
        "c = 0\n",
        "for i in range(0, len(a)): \n",
        "  if (w == a[i]):\n",
        "    c = c + 1    \n",
        "print(c)"
      ],
      "execution_count": 10,
      "outputs": [
        {
          "output_type": "stream",
          "text": [
            "Enter The Main String: sushmitha b poojary\n",
            "Enter Comparision String: b\n",
            "1\n"
          ],
          "name": "stdout"
        }
      ]
    },
    {
      "cell_type": "code",
      "metadata": {
        "id": "B7lK3SHLrazj",
        "colab_type": "code",
        "colab": {}
      },
      "source": [
        ""
      ],
      "execution_count": 0,
      "outputs": []
    }
  ]
}