{
  "nbformat": 4,
  "nbformat_minor": 0,
  "metadata": {
    "colab": {
      "name": "DAY1 SESSION EXERCISE",
      "provenance": [],
      "authorship_tag": "ABX9TyPgv0L6H0haunlq8PVKkyiY",
      "include_colab_link": true
    },
    "kernelspec": {
      "name": "python3",
      "display_name": "Python 3"
    }
  },
  "cells": [
    {
      "cell_type": "markdown",
      "metadata": {
        "id": "view-in-github",
        "colab_type": "text"
      },
      "source": [
        "<a href=\"https://colab.research.google.com/github/Sushmithabp/Workshop-on-python-programming-in-DA-and-ML/blob/master/DAY1_SESSION_EXERCISE.ipynb\" target=\"_parent\"><img src=\"https://colab.research.google.com/assets/colab-badge.svg\" alt=\"Open In Colab\"/></a>"
      ]
    },
    {
      "cell_type": "code",
      "metadata": {
        "id": "vX4cKmW_d60C",
        "colab_type": "code",
        "colab": {}
      },
      "source": [
        ""
      ],
      "execution_count": 0,
      "outputs": []
    },
    {
      "cell_type": "markdown",
      "metadata": {
        "id": "M81krxGHd8HS",
        "colab_type": "text"
      },
      "source": [
        "The compound interest for the given p,n,r (formula : p(1+n*r/100)n )"
      ]
    },
    {
      "cell_type": "code",
      "metadata": {
        "id": "HQ7eNrAQd9CK",
        "colab_type": "code",
        "outputId": "62f42c5e-9998-4317-8277-8b7dd46b6a9b",
        "colab": {
          "base_uri": "https://localhost:8080/",
          "height": 87
        }
      },
      "source": [
        "p = int(input(\"Enter The Principle amount: \"))\n",
        "n = int(input(\"Enter The Number Of Years: \"))\n",
        "r = int(input(\"Enter The Rate Of Interest: \"))\n",
        "print(f\"The Compound Interest Is: {p*(1+n*r/100)**n}\")"
      ],
      "execution_count": 0,
      "outputs": [
        {
          "output_type": "stream",
          "text": [
            "Enter The Principle amount: 100\n",
            "Enter The Number Of Years: 2\n",
            "Enter The Rate Of Interest: 5\n",
            "The Compound Interest Is: 121.00000000000001\n"
          ],
          "name": "stdout"
        }
      ]
    },
    {
      "cell_type": "markdown",
      "metadata": {
        "id": "PZtWuGGveMMa",
        "colab_type": "text"
      },
      "source": [
        "Convert centegrade to farenheit ( f= 9/5*c+32)"
      ]
    },
    {
      "cell_type": "code",
      "metadata": {
        "id": "i7tLZp5oeEGJ",
        "colab_type": "code",
        "outputId": "4f9ec9b7-97f2-488b-a2b5-8465fff26417",
        "colab": {
          "base_uri": "https://localhost:8080/",
          "height": 52
        }
      },
      "source": [
        "c = int(input(\"Enter The Temperature In Centegrade: \"))\n",
        "print(f\"The Temperature After Converted To Farenheit: {9/5*c+32}\")"
      ],
      "execution_count": 0,
      "outputs": [
        {
          "output_type": "stream",
          "text": [
            "Enter The Temperature In Centegrade: 10\n",
            "The Temperature After Converted To Farenheit: 50.0\n"
          ],
          "name": "stdout"
        }
      ]
    },
    {
      "cell_type": "markdown",
      "metadata": {
        "id": "pUGC27XPeZMr",
        "colab_type": "text"
      },
      "source": [
        "The greater of two nos"
      ]
    },
    {
      "cell_type": "code",
      "metadata": {
        "id": "j6q-qljveVFZ",
        "colab_type": "code",
        "outputId": "80b3e8f2-e3d6-4933-aa00-89f6cda6de38",
        "colab": {
          "base_uri": "https://localhost:8080/",
          "height": 69
        }
      },
      "source": [
        "m=int(input(\"Enter The First Num: \"))\n",
        "n = int(input(\"Enter The Second Num: \"))\n",
        "if(m>n):\n",
        "  print(f\"{m} Is Greater Than {n}\")\n",
        "else:\n",
        "  print(f\"{n} Is Greater Than {m}\")\n"
      ],
      "execution_count": 0,
      "outputs": [
        {
          "output_type": "stream",
          "text": [
            "Enter The First Num: 3\n",
            "Enter The Second Num: 5\n",
            "5 Is Greater Than 3\n"
          ],
          "name": "stdout"
        }
      ]
    },
    {
      "cell_type": "markdown",
      "metadata": {
        "id": "5gzqIdRVesgG",
        "colab_type": "text"
      },
      "source": [
        "Finding surface areas of cylinder and cone (2PIrrh, 1/3PIrrh) using function"
      ]
    },
    {
      "cell_type": "code",
      "metadata": {
        "id": "0PkE7849elMs",
        "colab_type": "code",
        "outputId": "ee873fa3-82f9-436c-c26e-afbcd9ee899f",
        "colab": {
          "base_uri": "https://localhost:8080/",
          "height": 121
        }
      },
      "source": [
        "def cylarea(r, h):\n",
        "  return 2*3.14*r**2*h\n",
        "def conearea(r, h):\n",
        "  return 1/3*3.14*r**2*h\n",
        "r1 = int(input(\"Enter The Radius Of Cylinder: \"))\n",
        "h1 = int(input(\"Enter The Height Of Cylinder: \"))\n",
        "print(f\"Surface Area Of Cylinder Is: {cylarea(r1, h1)}\")\n",
        "r2 = int(input(\"Enter The Radius Of Cone: \"))\n",
        "h2 = int(input(\"Enter The Height Of Cone: \"))\n",
        "print(f\"Surface Area Of Cone Is: {conearea(r2, h2)}\")"
      ],
      "execution_count": 0,
      "outputs": [
        {
          "output_type": "stream",
          "text": [
            "Enter The Radius Of Cylinder: 10\n",
            "Enter The Height Of Cylinder: 4\n",
            "Surface Area Of Cylinder Is: 2512.0\n",
            "Enter The Radius Of Cone: 3\n",
            "Enter The Height Of Cone: 2\n",
            "Surface Area Of Cone Is: 18.84\n"
          ],
          "name": "stdout"
        }
      ]
    },
    {
      "cell_type": "markdown",
      "metadata": {
        "id": "-fmX-JXXe7_v",
        "colab_type": "text"
      },
      "source": [
        "The greatest of four nos ( using ‘and’ operator) using function"
      ]
    },
    {
      "cell_type": "code",
      "metadata": {
        "id": "RFtkWeW1e05d",
        "colab_type": "code",
        "outputId": "cc13882f-6485-47b6-bc69-e9d301d116a3",
        "colab": {
          "base_uri": "https://localhost:8080/",
          "height": 104
        }
      },
      "source": [
        "n1 = int(input(\"Enter The First Number: \"))\n",
        "n2 = int(input(\"Enter The Second Number: \"))\n",
        "n3 = int(input(\"Enter The Third Number: \"))\n",
        "n4 = int(input(\"Enter The Fourth Number: \"))\n",
        "if(n1>n2 and n1>n3 and n1>n4):\n",
        "  print(f\"{n1} Is Greater Than {n2}, {n3}, {n4}\")\n",
        "elif(n2>n1 and n2>n3 and n2>n4):\n",
        "  print(f\"{n2} Is Greater Than {n1}, {n3}, {n4}\")\n",
        "elif(n3>n1 and n3>n2 and n3>n4):\n",
        "  print(f\"{n3} Is Greater Than {n1}, {n2}, {n4}\")\n",
        "else:\n",
        "  print(f\"{n4} Is Greater Than {n1}, {n2}, {n3}\")"
      ],
      "execution_count": 0,
      "outputs": [
        {
          "output_type": "stream",
          "text": [
            "Enter The First Number: 5\n",
            "Enter The Second Number: 6\n",
            "Enter The Third Number: 7\n",
            "Enter The Fourth Number: 8\n",
            "8 Is Greater Than 5, 6, 7\n"
          ],
          "name": "stdout"
        }
      ]
    },
    {
      "cell_type": "markdown",
      "metadata": {
        "id": "OFwsskuzfKyt",
        "colab_type": "text"
      },
      "source": [
        "A menu program to perform the operations ( ODDorEven, Factorial, ODDNoUptoN, PrimeUptoN ) using functions for two nos with menu choice"
      ]
    },
    {
      "cell_type": "code",
      "metadata": {
        "id": "ziUUGYuOfEnA",
        "colab_type": "code",
        "outputId": "10e20a9c-a3d2-4de5-d4a4-96f1074eb4b7",
        "colab": {
          "base_uri": "https://localhost:8080/",
          "height": 1000
        }
      },
      "source": [
        "\n",
        "loop = 1\n",
        "choice = 0\n",
        "def OddorEven(n):\n",
        "  if(n%2==0):\n",
        "    return True\n",
        "def fact(f):\n",
        "  s=1\n",
        "  while(f>0):\n",
        "    s=s*f\n",
        "    f=f-1\n",
        "  print(f\"Factorial Of {f} Is: {s}\")\n",
        "def Odd(o):\n",
        "  for i in range(o+1):\n",
        "    if(i%2 != 0):\n",
        "      print(i, end=' ')\n",
        "def prime(p):\n",
        "  c=0\n",
        "  print(2, end=' ')\n",
        "  for i in range(3,p+1):\n",
        "    for j in range(2,i):\n",
        "      if(i % j == 0):\n",
        "        c=1\n",
        "        break\n",
        "    if(c==0):\n",
        "      print(i, end=' ')\n",
        "    c=0\n",
        "\n",
        "while loop == 1:\n",
        "    print(\" \")\n",
        "    print (\"your options are:\")\n",
        "    print (\" \")\n",
        "    print(\"1) Odd or Even\")\n",
        "    print(\"2) Factorial\")\n",
        "    print(\"3) Odd Number Upto N\")\n",
        "    print(\"4) Prime Number upto N\")\n",
        "    print(\"5) Quit\")\n",
        "    print(\" \")\n",
        "    try:\n",
        "        choice = int(input(\"Choose your option: \"))\n",
        "    except:\n",
        "        print('please enter a valid number for option')\n",
        "    print(\" \")\n",
        "    if choice == 1:\n",
        "      n = int(input(\"Enter The Number: \"))\n",
        "      if(OddorEven(n)):\n",
        "        print(\"The Number Is Even\")\n",
        "      else:\n",
        "        print(\"The Number Is Odd\")\n",
        "    elif choice == 2:\n",
        "      f = int(input(\"Enter The Number: \"))\n",
        "      fact(f)\n",
        "    elif choice == 3:\n",
        "      o = int(input(\"Enter The Number: \"))\n",
        "      Odd(o)\n",
        "    elif choice == 4:\n",
        "      p = int(input(\"Enter The Number: \"))\n",
        "      prime(p)\n",
        "    elif choice == 5:\n",
        "      loop = 0\n",
        "    else:\n",
        "      print(\"please choice a valid option from 1 to 5\")\n",
        "      choice=0"
      ],
      "execution_count": 0,
      "outputs": [
        {
          "output_type": "stream",
          "text": [
            " \n",
            "your options are:\n",
            " \n",
            "1) Odd or Even\n",
            "2) Factorial\n",
            "3) Odd Number Upto N\n",
            "4) Prime Number upto N\n",
            "5) Quit\n",
            " \n",
            "Choose your option: 1\n",
            " \n",
            "Enter The Number: 4\n",
            "The Number Is Even\n",
            " \n",
            "your options are:\n",
            " \n",
            "1) Odd or Even\n",
            "2) Factorial\n",
            "3) Odd Number Upto N\n",
            "4) Prime Number upto N\n",
            "5) Quit\n",
            " \n",
            "Choose your option: 2\n",
            " \n",
            "Enter The Number: 5\n",
            "Factorial Of 0 Is: 120\n",
            " \n",
            "your options are:\n",
            " \n",
            "1) Odd or Even\n",
            "2) Factorial\n",
            "3) Odd Number Upto N\n",
            "4) Prime Number upto N\n",
            "5) Quit\n",
            " \n",
            "Choose your option: 3\n",
            " \n",
            "Enter The Number: 4\n",
            "1 3  \n",
            "your options are:\n",
            " \n",
            "1) Odd or Even\n",
            "2) Factorial\n",
            "3) Odd Number Upto N\n",
            "4) Prime Number upto N\n",
            "5) Quit\n",
            " \n",
            "Choose your option: 4\n",
            " \n",
            "Enter The Number: 6\n",
            "2 3 5  \n",
            "your options are:\n",
            " \n",
            "1) Odd or Even\n",
            "2) Factorial\n",
            "3) Odd Number Upto N\n",
            "4) Prime Number upto N\n",
            "5) Quit\n",
            " \n",
            "Choose your option: 5\n",
            " \n"
          ],
          "name": "stdout"
        }
      ]
    },
    {
      "cell_type": "markdown",
      "metadata": {
        "id": "nv4Dbh99fwTO",
        "colab_type": "text"
      },
      "source": [
        ""
      ]
    },
    {
      "cell_type": "code",
      "metadata": {
        "id": "5XJHTxhZfbyF",
        "colab_type": "code",
        "colab": {}
      },
      "source": [
        ""
      ],
      "execution_count": 0,
      "outputs": []
    }
  ]
}