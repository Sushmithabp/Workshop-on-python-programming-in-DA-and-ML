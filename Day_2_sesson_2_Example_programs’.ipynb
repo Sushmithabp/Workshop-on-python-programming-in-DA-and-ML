{
  "nbformat": 4,
  "nbformat_minor": 0,
  "metadata": {
    "colab": {
      "name": "Day 2 sesson 2 Example programs’",
      "provenance": [],
      "collapsed_sections": [],
      "authorship_tag": "ABX9TyO2aeMs3Vovg1OcovHeVirg",
      "include_colab_link": true
    },
    "kernelspec": {
      "name": "python3",
      "display_name": "Python 3"
    }
  },
  "cells": [
    {
      "cell_type": "markdown",
      "metadata": {
        "id": "view-in-github",
        "colab_type": "text"
      },
      "source": [
        "<a href=\"https://colab.research.google.com/github/Sushmithabp/Workshop-on-python-programming-in-DA-and-ML/blob/master/Day_2_sesson_2_Example_programs%E2%80%99.ipynb\" target=\"_parent\"><img src=\"https://colab.research.google.com/assets/colab-badge.svg\" alt=\"Open In Colab\"/></a>"
      ]
    },
    {
      "cell_type": "code",
      "metadata": {
        "id": "pCiSU4Y6_A-7",
        "colab_type": "code",
        "colab": {}
      },
      "source": [
        ""
      ],
      "execution_count": 0,
      "outputs": []
    },
    {
      "cell_type": "markdown",
      "metadata": {
        "id": "C1IccSiR_TAi",
        "colab_type": "text"
      },
      "source": [
        "#Removes all elements of dictionary dict"
      ]
    },
    {
      "cell_type": "code",
      "metadata": {
        "id": "mEEqDAbE_ToV",
        "colab_type": "code",
        "outputId": "b1b5d21d-429a-4290-d4f9-44fefa57cdb9",
        "colab": {
          "base_uri": "https://localhost:8080/",
          "height": 52
        }
      },
      "source": [
        "dict = {'Name': 'Zara', 'Age': 7};\n",
        "print(\"Start Len : %d\" %  len(dict))\n",
        "dict.clear()\n",
        "print(\"End Len : %d\" %  len(dict))"
      ],
      "execution_count": 0,
      "outputs": [
        {
          "output_type": "stream",
          "text": [
            "Start Len : 2\n",
            "End Len : 0\n"
          ],
          "name": "stdout"
        }
      ]
    },
    {
      "cell_type": "markdown",
      "metadata": {
        "id": "sq1kgv43_iQC",
        "colab_type": "text"
      },
      "source": [
        "#Returns a list of dict's (key, value) tuple pairs\n"
      ]
    },
    {
      "cell_type": "code",
      "metadata": {
        "id": "0wu_Thfv_Y87",
        "colab_type": "code",
        "outputId": "30429ed7-538a-416a-8bf1-9da8a871cbf1",
        "colab": {
          "base_uri": "https://localhost:8080/",
          "height": 35
        }
      },
      "source": [
        "dict = {'Name': 'Zara', 'Age': 7}\n",
        "print (\"Value : %s\" %  dict.items())"
      ],
      "execution_count": 0,
      "outputs": [
        {
          "output_type": "stream",
          "text": [
            "Value : dict_items([('Name', 'Zara'), ('Age', 7)])\n"
          ],
          "name": "stdout"
        }
      ]
    },
    {
      "cell_type": "markdown",
      "metadata": {
        "id": "eA1Rfc9m_qWA",
        "colab_type": "text"
      },
      "source": [
        "#Returns a copy of dictionary dict"
      ]
    },
    {
      "cell_type": "code",
      "metadata": {
        "id": "W1z7xjUt_mAY",
        "colab_type": "code",
        "outputId": "57769faa-8eaf-4a22-d9d2-fc9759a9c3fb",
        "colab": {
          "base_uri": "https://localhost:8080/",
          "height": 35
        }
      },
      "source": [
        "dict1 = {'Name': 'Zara', 'Age': 7};\n",
        "dict2 = dict1.copy()\n",
        "print (\"New Dictinary : %s\" %  str(dict2))"
      ],
      "execution_count": 0,
      "outputs": [
        {
          "output_type": "stream",
          "text": [
            "New Dictinary : {'Name': 'Zara', 'Age': 7}\n"
          ],
          "name": "stdout"
        }
      ]
    },
    {
      "cell_type": "markdown",
      "metadata": {
        "id": "Xqj3nc3F_1-I",
        "colab_type": "text"
      },
      "source": [
        ""
      ]
    },
    {
      "cell_type": "markdown",
      "metadata": {
        "id": "hS7lg7r0_48S",
        "colab_type": "text"
      },
      "source": [
        "#Python Program to Generate a Dictionary that Contains Numbers (between 1 and n) in the Form (x,x*x). "
      ]
    },
    {
      "cell_type": "code",
      "metadata": {
        "id": "6frPESD7_0Vk",
        "colab_type": "code",
        "outputId": "6e5096e4-6fc8-44d9-8d72-00f38dd2ee76",
        "colab": {
          "base_uri": "https://localhost:8080/",
          "height": 52
        }
      },
      "source": [
        "n=int(input(\"Enter a number:\"))\n",
        "d={x:x*x for x in range(1,n+1)}\n",
        "print(d)"
      ],
      "execution_count": 0,
      "outputs": [
        {
          "output_type": "stream",
          "text": [
            "Enter a number:5\n",
            "{1: 1, 2: 4, 3: 9, 4: 16, 5: 25}\n"
          ],
          "name": "stdout"
        }
      ]
    },
    {
      "cell_type": "markdown",
      "metadata": {
        "id": "iCZ1rQXGAHI4",
        "colab_type": "text"
      },
      "source": [
        "#Python Program to Sum All the Items in a Dictionary "
      ]
    },
    {
      "cell_type": "code",
      "metadata": {
        "id": "dN2egCPSADhx",
        "colab_type": "code",
        "outputId": "48ff083d-bdb8-4217-ccc3-764fcd69e786",
        "colab": {
          "base_uri": "https://localhost:8080/",
          "height": 52
        }
      },
      "source": [
        "d={'A':100,'B':540,'C':239}\n",
        "print(\"Total sum of values in the dictionary:\")\n",
        "print(sum(d.values()))"
      ],
      "execution_count": 0,
      "outputs": [
        {
          "output_type": "stream",
          "text": [
            "Total sum of values in the dictionary:\n",
            "879\n"
          ],
          "name": "stdout"
        }
      ]
    },
    {
      "cell_type": "markdown",
      "metadata": {
        "id": "ZoAraKiPAahb",
        "colab_type": "text"
      },
      "source": [
        "#Python Program to Remove the Given Key from a Dictionary "
      ]
    },
    {
      "cell_type": "code",
      "metadata": {
        "id": "xaAReVplASMm",
        "colab_type": "code",
        "outputId": "47758e86-2b88-4875-e488-e4193f7be16d",
        "colab": {
          "base_uri": "https://localhost:8080/",
          "height": 104
        }
      },
      "source": [
        "d = {'a':1,'b':2,'c':3,'d':4}\n",
        "print(\"Initial dictionary\")\n",
        "print(d)\n",
        "key=input(\"Enter the key to delete(a-d):\")\n",
        "if key in d: \n",
        "    del d[key]\n",
        "else:\n",
        "    print(\"Key not found!\")\n",
        "    exit(0)\n",
        "print(\"Updated dictionary\")\n",
        "print(d)"
      ],
      "execution_count": 0,
      "outputs": [
        {
          "output_type": "stream",
          "text": [
            "Initial dictionary\n",
            "{'a': 1, 'b': 2, 'c': 3, 'd': 4}\n",
            "Enter the key to delete(a-d):a\n",
            "Updated dictionary\n",
            "{'b': 2, 'c': 3, 'd': 4}\n"
          ],
          "name": "stdout"
        }
      ]
    },
    {
      "cell_type": "markdown",
      "metadata": {
        "id": "zk2H55pDAn8Y",
        "colab_type": "text"
      },
      "source": [
        "#Python Program to add name and mark as key->value pair in  a Dictionary and print it."
      ]
    },
    {
      "cell_type": "code",
      "metadata": {
        "id": "agJsOMI7AfjU",
        "colab_type": "code",
        "outputId": "7cc57593-d7bd-4f65-86eb-2bd5c6f23ac0",
        "colab": {
          "base_uri": "https://localhost:8080/",
          "height": 191
        }
      },
      "source": [
        "n=int(input(\"Enter no of records\"))\n",
        "d={}\n",
        "for i in range(1,n+1):\n",
        "    name= input(\"Enter name %d\"%(i))\n",
        "    mark=int(input(\"Enter mark %d\"%(i)))\n",
        "    d[name]=mark\n",
        "    print (d)\n"
      ],
      "execution_count": 0,
      "outputs": [
        {
          "output_type": "stream",
          "text": [
            "Enter no of records3\n",
            "Enter name 1sushmitha\n",
            "Enter mark 1100\n",
            "{'sushmitha': 100}\n",
            "Enter name 2b\n",
            "Enter mark 299\n",
            "{'sushmitha': 100, 'b': 99}\n",
            "Enter name 3poojary\n",
            "Enter mark 398\n",
            "{'sushmitha': 100, 'b': 99, 'poojary': 98}\n"
          ],
          "name": "stdout"
        }
      ]
    },
    {
      "cell_type": "markdown",
      "metadata": {
        "id": "lDgfpSt9BMtA",
        "colab_type": "text"
      },
      "source": [
        "# Keys and Values example"
      ]
    },
    {
      "cell_type": "code",
      "metadata": {
        "id": "mAcPAfdCAztw",
        "colab_type": "code",
        "outputId": "eebc1306-7ca5-4f0d-ae21-da146a8c1856",
        "colab": {
          "base_uri": "https://localhost:8080/",
          "height": 523
        }
      },
      "source": [
        "    d={}\n",
        "    print (\" The dictionary elements are\")\n",
        "    for i in range(1,21):\n",
        "        d[i]=i**2\n",
        "    print (d)\n",
        "    # To print key and values\n",
        "    print (\" Key==> Value are\")\n",
        "    for (k,v) in d.items():\t\n",
        "        print(k,\"==>\",v)\n",
        "  # To print key only\n",
        "    print (\"\\nTo print key only\")\n",
        "    for k in d.keys():\t\n",
        "        print(k, end=\" \")\n",
        "  #To print value only\n",
        "    print (\"\\nTo print values only\")\n",
        "    for v in d.values():\t\n",
        "        print(v, end=\" \")\n"
      ],
      "execution_count": 0,
      "outputs": [
        {
          "output_type": "stream",
          "text": [
            " The dictionary elements are\n",
            "{1: 1, 2: 4, 3: 9, 4: 16, 5: 25, 6: 36, 7: 49, 8: 64, 9: 81, 10: 100, 11: 121, 12: 144, 13: 169, 14: 196, 15: 225, 16: 256, 17: 289, 18: 324, 19: 361, 20: 400}\n",
            " Key==> Value are\n",
            "1 ==> 1\n",
            "2 ==> 4\n",
            "3 ==> 9\n",
            "4 ==> 16\n",
            "5 ==> 25\n",
            "6 ==> 36\n",
            "7 ==> 49\n",
            "8 ==> 64\n",
            "9 ==> 81\n",
            "10 ==> 100\n",
            "11 ==> 121\n",
            "12 ==> 144\n",
            "13 ==> 169\n",
            "14 ==> 196\n",
            "15 ==> 225\n",
            "16 ==> 256\n",
            "17 ==> 289\n",
            "18 ==> 324\n",
            "19 ==> 361\n",
            "20 ==> 400\n",
            "\n",
            "To print key only\n",
            "1 2 3 4 5 6 7 8 9 10 11 12 13 14 15 16 17 18 19 20 \n",
            "To print values only\n",
            "1 4 9 16 25 36 49 64 81 100 121 144 169 196 225 256 289 324 361 400 "
          ],
          "name": "stdout"
        }
      ]
    },
    {
      "cell_type": "markdown",
      "metadata": {
        "id": "glsIyZ9CBcT2",
        "colab_type": "text"
      },
      "source": [
        "#Python program to convert 2 digit number   into words\n"
      ]
    },
    {
      "cell_type": "code",
      "metadata": {
        "id": "mowjkvrCBXRb",
        "colab_type": "code",
        "outputId": "823eaa29-3fa1-4dab-d2d7-ede266cf85e0",
        "colab": {
          "base_uri": "https://localhost:8080/",
          "height": 52
        }
      },
      "source": [
        "d={0:'',1:'one',2:'two',3:'three',4:'four',5:'five',6:'six',7:'seven',8:'eight',9:'nine',\\\n",
        "   10:'ten',11:'eleven',12:'twelve',13:'thirteen',14:'fourteen',15:'fifteen',16:'sixteen',\\\n",
        "   17:'seventeen',18:'eightteen',19:'nineteen',20:'twenty',30:'thirty',40:'fourty',50:'fifty',\\\n",
        "   60:'sixty',70:'seventy',80:'eighty',90:'ninty'}\n",
        "\n",
        "num=int(input(\"Enter the integer between 1 to 99:\"))\n",
        "if (num<=20):\n",
        "      print(d[num])\n",
        "if(num>20 and num<100):\n",
        "        if num%10==0:       \n",
        "            print(d[num])\n",
        "        else:\n",
        "            print(d[num//10*10]+\" \"+d[num%10])"
      ],
      "execution_count": 0,
      "outputs": [
        {
          "output_type": "stream",
          "text": [
            "Enter the integer between 1 to 99:98\n",
            "ninty eight\n"
          ],
          "name": "stdout"
        }
      ]
    },
    {
      "cell_type": "markdown",
      "metadata": {
        "id": "LcUtLyJyBsQR",
        "colab_type": "text"
      },
      "source": [
        "#How to sort a dictionary by values in Python"
      ]
    },
    {
      "cell_type": "code",
      "metadata": {
        "id": "w-Q0yqmnBlH-",
        "colab_type": "code",
        "outputId": "1fa80e36-fcb8-4a21-ca33-3dad5ec5313c",
        "colab": {
          "base_uri": "https://localhost:8080/",
          "height": 52
        }
      },
      "source": [
        "d = {\"Pierre\": 42, \"Anne\": 33, \"Zoe\": 24}\n",
        "#Use the sorted function and operator module\n",
        "import operator\n",
        "sorted_d = sorted(d.items(), key=operator.itemgetter(1))\n",
        "print(sorted_d)\n",
        "sorted_a= sorted(d.items(), key=operator.itemgetter(1),reverse=True)\n",
        "print(sorted_a)"
      ],
      "execution_count": 0,
      "outputs": [
        {
          "output_type": "stream",
          "text": [
            "[('Zoe', 24), ('Anne', 33), ('Pierre', 42)]\n",
            "[('Pierre', 42), ('Anne', 33), ('Zoe', 24)]\n"
          ],
          "name": "stdout"
        }
      ]
    },
    {
      "cell_type": "code",
      "metadata": {
        "id": "HF6yfDTuB03f",
        "colab_type": "code",
        "colab": {}
      },
      "source": [
        ""
      ],
      "execution_count": 0,
      "outputs": []
    }
  ]
}